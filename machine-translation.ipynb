{
 "cells": [
  {
   "cell_type": "markdown",
   "metadata": {},
   "source": [
    "# Machine Translation\n",
    "\n",
    "**ENGLISH - FRENCH**"
   ]
  },
  {
   "cell_type": "code",
   "execution_count": 1,
   "metadata": {},
   "outputs": [],
   "source": [
    "import collections\n",
    "\n",
    "import helper\n",
    "import numpy as np\n",
    "import project_tests as tests\n",
    "\n",
    "from keras.preprocessing.text import Tokenizer\n",
    "from keras.preprocessing.sequence import pad_sequences\n",
    "from keras.models import Model\n",
    "from keras.layers import GRU, Input, Dense, TimeDistributed, Activation, RepeatVector, Bidirectional\n",
    "from keras.layers.embeddings import Embedding\n",
    "from keras.optimizers import Adam\n",
    "from keras.losses import sparse_categorical_crossentropy"
   ]
  },
  {
   "cell_type": "markdown",
   "metadata": {},
   "source": [
    "## Loading Data"
   ]
  },
  {
   "cell_type": "code",
   "execution_count": 2,
   "metadata": {},
   "outputs": [
    {
     "name": "stdout",
     "output_type": "stream",
     "text": [
      "Dataset Loaded\n"
     ]
    }
   ],
   "source": [
    "# Load English data\n",
    "english_sentences = helper.load_data('data/small_vocab_en')\n",
    "# Load French data\n",
    "french_sentences = helper.load_data('data/small_vocab_fr')\n",
    "\n",
    "print('Dataset Loaded')"
   ]
  },
  {
   "cell_type": "markdown",
   "metadata": {},
   "source": [
    "## Files"
   ]
  },
  {
   "cell_type": "code",
   "execution_count": 3,
   "metadata": {},
   "outputs": [
    {
     "name": "stdout",
     "output_type": "stream",
     "text": [
      "small_vocab_en Line 1:  new jersey is sometimes quiet during autumn , and it is snowy in april .\n",
      "small_vocab_fr Line 1:  new jersey est parfois calme pendant l' automne , et il est neigeux en avril .\n",
      "small_vocab_en Line 2:  the united states is usually chilly during july , and it is usually freezing in november .\n",
      "small_vocab_fr Line 2:  les états-unis est généralement froid en juillet , et il gèle habituellement en novembre .\n"
     ]
    }
   ],
   "source": [
    "for sample_i in range(2):\n",
    "    print('small_vocab_en Line {}:  {}'.format(sample_i + 1, english_sentences[sample_i]))\n",
    "    print('small_vocab_fr Line {}:  {}'.format(sample_i + 1, french_sentences[sample_i]))"
   ]
  },
  {
   "cell_type": "markdown",
   "metadata": {},
   "source": [
    "## Vocabulary"
   ]
  },
  {
   "cell_type": "code",
   "execution_count": 6,
   "metadata": {},
   "outputs": [],
   "source": [
    "english_words_counter = collections.Counter([word for sentence in english_sentences for word in sentence.split()])\n",
    "french_words_counter = collections.Counter([word for sentence in french_sentences for word in sentence.split()])"
   ]
  },
  {
   "cell_type": "code",
   "execution_count": 7,
   "metadata": {},
   "outputs": [
    {
     "name": "stdout",
     "output_type": "stream",
     "text": [
      "1823250 English words.\n",
      "227 unique English words.\n",
      "10 Most common words in the English dataset:\n",
      "\"is\" \",\" \".\" \"in\" \"it\" \"during\" \"the\" \"but\" \"and\" \"sometimes\"\n",
      "\n",
      "1961295 French words.\n",
      "355 unique French words.\n",
      "10 Most common words in the French dataset:\n",
      "\"est\" \".\" \",\" \"en\" \"il\" \"les\" \"mais\" \"et\" \"la\" \"parfois\"\n"
     ]
    }
   ],
   "source": [
    "print('{} English words.'.format(len([word for sentence in english_sentences for word in sentence.split()])))\n",
    "print('{} unique English words.'.format(len(english_words_counter)))\n",
    "print('10 Most common words in the English dataset:')\n",
    "print('\"' + '\" \"'.join(list(zip(*english_words_counter.most_common(10)))[0]) + '\"')\n",
    "print()\n",
    "print('{} French words.'.format(len([word for sentence in french_sentences for word in sentence.split()])))\n",
    "print('{} unique French words.'.format(len(french_words_counter)))\n",
    "print('10 Most common words in the French dataset:')\n",
    "print('\"' + '\" \"'.join(list(zip(*french_words_counter.most_common(10)))[0]) + '\"')"
   ]
  },
  {
   "cell_type": "markdown",
   "metadata": {},
   "source": [
    "## Preprocess"
   ]
  },
  {
   "cell_type": "markdown",
   "metadata": {},
   "source": [
    "### Tokenize"
   ]
  },
  {
   "cell_type": "code",
   "execution_count": 12,
   "metadata": {},
   "outputs": [],
   "source": [
    "import keras \n",
    "\n",
    "def tokenize(x):\n",
    "    obj_tokenizer = keras.preprocessing.text.Tokenizer()\n",
    "    obj_tokenizer.fit_on_texts(x)\n",
    "    \n",
    "    return obj_tokenizer.texts_to_sequences(x), obj_tokenizer\n"
   ]
  },
  {
   "cell_type": "code",
   "execution_count": 13,
   "metadata": {},
   "outputs": [
    {
     "name": "stdout",
     "output_type": "stream",
     "text": [
      "{'the': 1, 'quick': 2, 'a': 3, 'brown': 4, 'fox': 5, 'jumps': 6, 'over': 7, 'lazy': 8, 'dog': 9, 'by': 10, 'jove': 11, 'my': 12, 'study': 13, 'of': 14, 'lexicography': 15, 'won': 16, 'prize': 17, 'this': 18, 'is': 19, 'short': 20, 'sentence': 21}\n"
     ]
    }
   ],
   "source": [
    "# Tokenize Example output\n",
    "text_sentences = [\n",
    "    'The quick brown fox jumps over the lazy dog .',\n",
    "    'By Jove , my quick study of lexicography won a prize .',\n",
    "    'This is a short sentence .']\n",
    "\n",
    "text_tokenized, text_tokenizer = tokenize(text_sentences)\n",
    "\n",
    "print(text_tokenizer.word_index)"
   ]
  },
  {
   "cell_type": "code",
   "execution_count": 14,
   "metadata": {},
   "outputs": [
    {
     "name": "stdout",
     "output_type": "stream",
     "text": [
      "Sequence 1 in x\n",
      "  Input:  The quick brown fox jumps over the lazy dog .\n",
      "  Output: [1, 2, 4, 5, 6, 7, 1, 8, 9]\n",
      "Sequence 2 in x\n",
      "  Input:  By Jove , my quick study of lexicography won a prize .\n",
      "  Output: [10, 11, 12, 2, 13, 14, 15, 16, 3, 17]\n",
      "Sequence 3 in x\n",
      "  Input:  This is a short sentence .\n",
      "  Output: [18, 19, 3, 20, 21]\n"
     ]
    }
   ],
   "source": [
    "for sample_i, (sent, token_sent) in enumerate(zip(text_sentences, text_tokenized)):\n",
    "    print('Sequence {} in x'.format(sample_i + 1))\n",
    "    print('  Input:  {}'.format(sent))\n",
    "    print('  Output: {}'.format(token_sent))"
   ]
  },
  {
   "cell_type": "markdown",
   "metadata": {},
   "source": [
    "### Padding"
   ]
  },
  {
   "cell_type": "code",
   "execution_count": 15,
   "metadata": {},
   "outputs": [
    {
     "name": "stdout",
     "output_type": "stream",
     "text": [
      "Sequence 1 in x\n",
      "  Input:  [1 2 4 5 6 7 1 8 9]\n",
      "  Output: [1 2 4 5 6 7 1 8 9 0]\n",
      "Sequence 2 in x\n",
      "  Input:  [10 11 12  2 13 14 15 16  3 17]\n",
      "  Output: [10 11 12  2 13 14 15 16  3 17]\n",
      "Sequence 3 in x\n",
      "  Input:  [18 19  3 20 21]\n",
      "  Output: [18 19  3 20 21  0  0  0  0  0]\n"
     ]
    }
   ],
   "source": [
    "def pad(x, length=None):\n",
    "    return keras.preprocessing.sequence.pad_sequences(x, maxlen = length, truncating='post', padding='post')\n",
    "\n",
    "# Pad Tokenized output\n",
    "test_pad = pad(text_tokenized)\n",
    "for sample_i, (token_sent, pad_sent) in enumerate(zip(text_tokenized, test_pad)):\n",
    "    print('Sequence {} in x'.format(sample_i + 1))\n",
    "    print('  Input:  {}'.format(np.array(token_sent)))\n",
    "    print('  Output: {}'.format(pad_sent))"
   ]
  },
  {
   "cell_type": "markdown",
   "metadata": {},
   "source": [
    "### Preprocess Pipeline "
   ]
  },
  {
   "cell_type": "code",
   "execution_count": 16,
   "metadata": {},
   "outputs": [],
   "source": [
    "def preprocess(x, y):\n",
    "    preprocess_x, x_tk = tokenize(x)\n",
    "    preprocess_y, y_tk = tokenize(y)\n",
    "\n",
    "    preprocess_x = pad(preprocess_x)\n",
    "    preprocess_y = pad(preprocess_y)\n",
    "    \n",
    "    # Keras's sparse_categorical_crossentropy function requires the labels to be in 3 dimensions\n",
    "    preprocess_y = preprocess_y.reshape(*preprocess_y.shape, 1)\n",
    "    \n",
    "    return preprocess_x, preprocess_y, x_tk, y_tk\n",
    "\n",
    "preproc_english_sentences, preproc_french_sentences, english_tokenizer, french_tokenizer =\\\n",
    "    preprocess(english_sentences, french_sentences)"
   ]
  },
  {
   "cell_type": "code",
   "execution_count": 17,
   "metadata": {},
   "outputs": [
    {
     "name": "stdout",
     "output_type": "stream",
     "text": [
      "Data Preprocessed\n",
      "Max English sentence length: 15\n",
      "Max French sentence length: 21\n",
      "English vocabulary size: 199\n",
      "French vocabulary size: 344\n"
     ]
    }
   ],
   "source": [
    "max_english_sequence_length = preproc_english_sentences.shape[1]\n",
    "max_french_sequence_length = preproc_french_sentences.shape[1]\n",
    "english_vocab_size = len(english_tokenizer.word_index)\n",
    "french_vocab_size = len(french_tokenizer.word_index)\n",
    "\n",
    "print('Data Preprocessed')\n",
    "print(\"Max English sentence length:\", max_english_sequence_length)\n",
    "print(\"Max French sentence length:\", max_french_sequence_length)\n",
    "print(\"English vocabulary size:\", english_vocab_size)\n",
    "print(\"French vocabulary size:\", french_vocab_size)"
   ]
  },
  {
   "cell_type": "markdown",
   "metadata": {},
   "source": [
    "## Modelling\n",
    "\n",
    "- Model 1 is a RNN with Embedding\n",
    "- Model 2 is a Bidirectional RNN\n",
    "- Model 3 is Encoder-Decoder RNN\n",
    "\n",
    "The function `logits_to_text` will bridge the gab between the logits from the neural network to the French translation. You'll be using this function to better understand the output of the neural network."
   ]
  },
  {
   "cell_type": "code",
   "execution_count": 18,
   "metadata": {},
   "outputs": [
    {
     "name": "stdout",
     "output_type": "stream",
     "text": [
      "`logits_to_text` function loaded.\n"
     ]
    }
   ],
   "source": [
    "def logits_to_text(logits, tokenizer):\n",
    "    \"\"\"\n",
    "    Turn logits from a neural network into text using the tokenizer\n",
    "    :param logits: Logits from a neural network\n",
    "    :param tokenizer: Keras Tokenizer fit on the labels\n",
    "    :return: String that represents the text of the logits\n",
    "    \"\"\"\n",
    "    index_to_words = {id: word for word, id in tokenizer.word_index.items()}\n",
    "    index_to_words[0] = '<PAD>'\n",
    "\n",
    "    return ' '.join([index_to_words[prediction] for prediction in np.argmax(logits, 1)])\n",
    "\n",
    "print('`logits_to_text` function loaded.')"
   ]
  },
  {
   "cell_type": "markdown",
   "metadata": {},
   "source": [
    "### Embedding"
   ]
  },
  {
   "cell_type": "code",
   "execution_count": 35,
   "metadata": {},
   "outputs": [
    {
     "name": "stdout",
     "output_type": "stream",
     "text": [
      "Model: \"functional_9\"\n",
      "_________________________________________________________________\n",
      "Layer (type)                 Output Shape              Param #   \n",
      "=================================================================\n",
      "input_5 (InputLayer)         [(None, 21)]              0         \n",
      "_________________________________________________________________\n",
      "embedding_1 (Embedding)      (None, 21, 21)            4200      \n",
      "_________________________________________________________________\n",
      "gru_5 (GRU)                  (None, 21, 21)            2772      \n",
      "_________________________________________________________________\n",
      "time_distributed_5 (TimeDist (None, 21, 345)           7590      \n",
      "=================================================================\n",
      "Total params: 14,562\n",
      "Trainable params: 14,562\n",
      "Non-trainable params: 0\n",
      "_________________________________________________________________\n",
      "Epoch 1/10\n",
      "108/108 [==============================] - ETA: 0s - loss: 2.9871 - accuracy: 0.4487WARNING:tensorflow:5 out of the last 11 calls to <function Model.make_test_function.<locals>.test_function at 0x161364ae8> triggered tf.function retracing. Tracing is expensive and the excessive number of tracings could be due to (1) creating @tf.function repeatedly in a loop, (2) passing tensors with different shapes, (3) passing Python objects instead of tensors. For (1), please define your @tf.function outside of the loop. For (2), @tf.function has experimental_relax_shapes=True option that relaxes argument shapes that can avoid unnecessary retracing. For (3), please refer to https://www.tensorflow.org/tutorials/customization/performance#python_or_tensor_args and https://www.tensorflow.org/api_docs/python/tf/function for  more details.\n",
      "108/108 [==============================] - 21s 190ms/step - loss: 2.9871 - accuracy: 0.4487 - val_loss: 1.9771 - val_accuracy: 0.5522\n",
      "Epoch 2/10\n",
      "108/108 [==============================] - 20s 183ms/step - loss: 1.4174 - accuracy: 0.6507 - val_loss: 1.0359 - val_accuracy: 0.7281\n",
      "Epoch 3/10\n",
      "108/108 [==============================] - 20s 182ms/step - loss: 0.8940 - accuracy: 0.7589 - val_loss: 0.7980 - val_accuracy: 0.7799\n",
      "Epoch 4/10\n",
      "108/108 [==============================] - 20s 181ms/step - loss: 0.7460 - accuracy: 0.7909 - val_loss: 0.6993 - val_accuracy: 0.8014\n",
      "Epoch 5/10\n",
      "108/108 [==============================] - 20s 181ms/step - loss: 0.6684 - accuracy: 0.8076 - val_loss: 0.6362 - val_accuracy: 0.8149\n",
      "Epoch 6/10\n",
      "108/108 [==============================] - 20s 182ms/step - loss: 0.6179 - accuracy: 0.8193 - val_loss: 0.5984 - val_accuracy: 0.8241\n",
      "Epoch 7/10\n",
      "108/108 [==============================] - 19s 180ms/step - loss: 0.5841 - accuracy: 0.8271 - val_loss: 0.5692 - val_accuracy: 0.8297\n",
      "Epoch 8/10\n",
      "108/108 [==============================] - 20s 181ms/step - loss: 0.5609 - accuracy: 0.8328 - val_loss: 0.5530 - val_accuracy: 0.8351\n",
      "Epoch 9/10\n",
      "108/108 [==============================] - 20s 181ms/step - loss: 0.5435 - accuracy: 0.8375 - val_loss: 0.5371 - val_accuracy: 0.8381\n",
      "Epoch 10/10\n",
      "108/108 [==============================] - 19s 180ms/step - loss: 0.5305 - accuracy: 0.8408 - val_loss: 0.5203 - val_accuracy: 0.8452\n",
      "new jersey est parfois calme en l' l' et il l' neigeux en en <PAD> <PAD> <PAD> <PAD> <PAD> <PAD> <PAD>\n"
     ]
    }
   ],
   "source": [
    "from keras.layers.embeddings import Embedding\n",
    "\n",
    "\n",
    "def embed_model(input_shape, output_sequence_length, english_vocab_size, french_vocab_size):\n",
    "    \"\"\"\n",
    "    Build and train a RNN model using word embedding on x and y\n",
    "    :param input_shape: Tuple of input shape\n",
    "    :param output_sequence_length: Length of output sequence\n",
    "    :param english_vocab_size: Number of unique English words in the dataset\n",
    "    :param french_vocab_size: Number of unique French words in the dataset\n",
    "    :return: Keras model built, but not trained\n",
    "    \"\"\"\n",
    "    \n",
    "    #Config Hyperparameters\n",
    "    learning_rate = 0.01\n",
    "    \n",
    "    #Config Model\n",
    "    inputs = Input(shape=input_shape[1:])\n",
    "    embedding_layer = Embedding(input_dim=english_vocab_size,\n",
    "                                output_dim=output_sequence_length,\n",
    "                                mask_zero=False)(inputs)\n",
    "    hidden_layer = GRU(output_sequence_length, return_sequences=True)(embedding_layer)\n",
    "    outputs = TimeDistributed(Dense(french_vocab_size, activation='softmax'))(hidden_layer)\n",
    "    \n",
    "    #Create Model from parameters defined above\n",
    "    model = Model(inputs=inputs, outputs=outputs)\n",
    "    model.compile(loss=sparse_categorical_crossentropy,\n",
    "                  optimizer=Adam(learning_rate),\n",
    "                  metrics=['accuracy'])\n",
    "    \n",
    "    return model\n",
    "\n",
    "\n",
    "tmp_x = pad(preproc_english_sentences, preproc_french_sentences.shape[1])\n",
    "tmp_x = tmp_x.reshape((-1, preproc_french_sentences.shape[-2]))\n",
    "\n",
    "# Train the neural network\n",
    "embed_rnn_model = embed_model(\n",
    "    tmp_x.shape,\n",
    "    preproc_french_sentences.shape[1],\n",
    "    len(english_tokenizer.word_index) + 1,\n",
    "    len(french_tokenizer.word_index) + 1)\n",
    "embed_rnn_model.summary()\n",
    "embed_rnn_model.fit(tmp_x, preproc_french_sentences, batch_size=1024, epochs=10, validation_split=0.2)\n",
    "\n",
    "# Print prediction(s)\n",
    "print(logits_to_text(embed_rnn_model.predict(tmp_x[:1])[0], french_tokenizer))"
   ]
  },
  {
   "cell_type": "markdown",
   "metadata": {},
   "source": [
    "### Bidirectional RNN's"
   ]
  },
  {
   "cell_type": "code",
   "execution_count": 37,
   "metadata": {},
   "outputs": [
    {
     "name": "stdout",
     "output_type": "stream",
     "text": [
      "Model: \"functional_13\"\n",
      "_________________________________________________________________\n",
      "Layer (type)                 Output Shape              Param #   \n",
      "=================================================================\n",
      "input_7 (InputLayer)         [(None, 21, 1)]           0         \n",
      "_________________________________________________________________\n",
      "bidirectional_1 (Bidirection (None, 21, 42)            3024      \n",
      "_________________________________________________________________\n",
      "time_distributed_7 (TimeDist (None, 21, 345)           14835     \n",
      "=================================================================\n",
      "Total params: 17,859\n",
      "Trainable params: 17,859\n",
      "Non-trainable params: 0\n",
      "_________________________________________________________________\n",
      "Epoch 1/10\n",
      "108/108 [==============================] - 23s 214ms/step - loss: 2.5009 - accuracy: 0.5061 - val_loss: 1.8029 - val_accuracy: 0.5749\n",
      "Epoch 2/10\n",
      "108/108 [==============================] - 23s 210ms/step - loss: 1.6302 - accuracy: 0.5973 - val_loss: 1.5067 - val_accuracy: 0.6120\n",
      "Epoch 3/10\n",
      "108/108 [==============================] - 22s 200ms/step - loss: 1.4363 - accuracy: 0.6220 - val_loss: 1.3754 - val_accuracy: 0.6365\n",
      "Epoch 4/10\n",
      "108/108 [==============================] - 22s 204ms/step - loss: 1.3325 - accuracy: 0.6415 - val_loss: 1.2951 - val_accuracy: 0.6504\n",
      "Epoch 5/10\n",
      "108/108 [==============================] - 22s 205ms/step - loss: 1.2696 - accuracy: 0.6508 - val_loss: 1.2463 - val_accuracy: 0.6544\n",
      "Epoch 6/10\n",
      "108/108 [==============================] - 22s 206ms/step - loss: 1.2300 - accuracy: 0.6552 - val_loss: 1.2149 - val_accuracy: 0.6587\n",
      "Epoch 7/10\n",
      "108/108 [==============================] - 25s 230ms/step - loss: 1.2022 - accuracy: 0.6586 - val_loss: 1.1894 - val_accuracy: 0.6595\n",
      "Epoch 8/10\n",
      "108/108 [==============================] - 22s 202ms/step - loss: 1.1795 - accuracy: 0.6631 - val_loss: 1.1667 - val_accuracy: 0.6681\n",
      "Epoch 9/10\n",
      "108/108 [==============================] - 22s 203ms/step - loss: 1.1566 - accuracy: 0.6685 - val_loss: 1.1496 - val_accuracy: 0.6693\n",
      "Epoch 10/10\n",
      "108/108 [==============================] - 22s 205ms/step - loss: 1.1368 - accuracy: 0.6728 - val_loss: 1.1278 - val_accuracy: 0.6747\n",
      "new jersey est parfois calme en l' et il est est en en <PAD> <PAD> <PAD> <PAD> <PAD> <PAD> <PAD> <PAD>\n"
     ]
    }
   ],
   "source": [
    "from keras.layers import Bidirectional\n",
    "\n",
    "\n",
    "def bd_model(input_shape, output_sequence_length, english_vocab_size, french_vocab_size):\n",
    "    \"\"\"\n",
    "    Build and train a bidirectional RNN model on x and y\n",
    "    :param input_shape: Tuple of input shape\n",
    "    :param output_sequence_length: Length of output sequence\n",
    "    :param english_vocab_size: Number of unique English words in the dataset\n",
    "    :param french_vocab_size: Number of unique French words in the dataset\n",
    "    :return: Keras model built, but not trained\n",
    "    \"\"\"\n",
    "    #Config Hyperparameters\n",
    "    learning_rate = 0.01\n",
    "    \n",
    "    #Create Model\n",
    "    inputs = Input(shape=input_shape[1:])\n",
    "    hidden_layer = Bidirectional(GRU(output_sequence_length, return_sequences=True))(inputs)\n",
    "    outputs = TimeDistributed(Dense(french_vocab_size, activation='softmax'))(hidden_layer)\n",
    "    \n",
    "    #Create Model from parameters defined above\n",
    "    model = Model(inputs=inputs, outputs=outputs)\n",
    "    model.compile(loss=sparse_categorical_crossentropy,\n",
    "                  optimizer=Adam(learning_rate),\n",
    "                  metrics=['accuracy'])\n",
    "    \n",
    "    return model\n",
    "\n",
    "\n",
    "tmp_x = pad(preproc_english_sentences, preproc_french_sentences.shape[1])\n",
    "tmp_x = tmp_x.reshape((-1, preproc_french_sentences.shape[-2], 1))\n",
    "\n",
    "# Train the neural network\n",
    "bd_rnn_model = bd_model(\n",
    "    tmp_x.shape,\n",
    "    preproc_french_sentences.shape[1],\n",
    "    len(english_tokenizer.word_index) + 1,\n",
    "    len(french_tokenizer.word_index) + 1)\n",
    "bd_rnn_model.summary()\n",
    "bd_rnn_model.fit(tmp_x, preproc_french_sentences, batch_size=1024, epochs=10, validation_split=0.2)\n",
    "\n",
    "# Print prediction(s)\n",
    "print(logits_to_text(bd_rnn_model.predict(tmp_x[:1])[0], french_tokenizer))"
   ]
  },
  {
   "cell_type": "markdown",
   "metadata": {},
   "source": [
    "### Encoder - Decoder"
   ]
  },
  {
   "cell_type": "code",
   "execution_count": 39,
   "metadata": {},
   "outputs": [
    {
     "name": "stdout",
     "output_type": "stream",
     "text": [
      "Model: \"functional_17\"\n",
      "_________________________________________________________________\n",
      "Layer (type)                 Output Shape              Param #   \n",
      "=================================================================\n",
      "input_9 (InputLayer)         [(None, 21, 1)]           0         \n",
      "_________________________________________________________________\n",
      "gru_10 (GRU)                 (None, 21)                1512      \n",
      "_________________________________________________________________\n",
      "dense_10 (Dense)             (None, 128)               2816      \n",
      "_________________________________________________________________\n",
      "repeat_vector_1 (RepeatVecto (None, 21, 128)           0         \n",
      "_________________________________________________________________\n",
      "gru_11 (GRU)                 (None, 21, 128)           99072     \n",
      "_________________________________________________________________\n",
      "time_distributed_9 (TimeDist (None, 21, 345)           44505     \n",
      "=================================================================\n",
      "Total params: 147,905\n",
      "Trainable params: 147,905\n",
      "Non-trainable params: 0\n",
      "_________________________________________________________________\n",
      "Epoch 1/10\n",
      "108/108 [==============================] - 43s 400ms/step - loss: 2.5429 - accuracy: 0.4735 - val_loss: 1.9952 - val_accuracy: 0.5329\n",
      "Epoch 2/10\n",
      "108/108 [==============================] - 39s 364ms/step - loss: 1.8699 - accuracy: 0.5408 - val_loss: 1.7608 - val_accuracy: 0.5563\n",
      "Epoch 3/10\n",
      "108/108 [==============================] - 40s 366ms/step - loss: 1.7332 - accuracy: 0.5581 - val_loss: 1.5947 - val_accuracy: 0.5751\n",
      "Epoch 4/10\n",
      "108/108 [==============================] - 40s 369ms/step - loss: 1.9277 - accuracy: 0.5427 - val_loss: 1.8265 - val_accuracy: 0.5508\n",
      "Epoch 5/10\n",
      "108/108 [==============================] - 41s 376ms/step - loss: 1.7089 - accuracy: 0.5615 - val_loss: 1.5925 - val_accuracy: 0.5773\n",
      "Epoch 6/10\n",
      "108/108 [==============================] - 41s 383ms/step - loss: 1.5312 - accuracy: 0.5885 - val_loss: 1.5111 - val_accuracy: 0.5919\n",
      "Epoch 7/10\n",
      "108/108 [==============================] - 39s 366ms/step - loss: 1.4339 - accuracy: 0.6052 - val_loss: 1.3827 - val_accuracy: 0.6160\n",
      "Epoch 8/10\n",
      "108/108 [==============================] - 40s 373ms/step - loss: 1.4102 - accuracy: 0.6090 - val_loss: 1.3507 - val_accuracy: 0.6227\n",
      "Epoch 9/10\n",
      "108/108 [==============================] - 41s 375ms/step - loss: 1.4390 - accuracy: 0.6074 - val_loss: 1.3672 - val_accuracy: 0.6207\n",
      "Epoch 10/10\n",
      "108/108 [==============================] - 40s 369ms/step - loss: 1.3368 - accuracy: 0.6243 - val_loss: 1.3286 - val_accuracy: 0.6201\n",
      "new jersey est parfois agréable en mois et il est il en en <PAD> <PAD> <PAD> <PAD> <PAD> <PAD> <PAD> <PAD>\n"
     ]
    }
   ],
   "source": [
    "from keras.layers import RepeatVector\n",
    "\n",
    "\n",
    "def encdec_model(input_shape, output_sequence_length, english_vocab_size, french_vocab_size):\n",
    "    \"\"\"\n",
    "    Build and train an encoder-decoder model on x and y\n",
    "    :param input_shape: Tuple of input shape\n",
    "    :param output_sequence_length: Length of output sequence\n",
    "    :param english_vocab_size: Number of unique English words in the dataset\n",
    "    :param french_vocab_size: Number of unique French words in the dataset\n",
    "    :return: Keras model built, but not trained\n",
    "    \"\"\"\n",
    "    #Config Hyperparameters\n",
    "    learning_rate = 0.01\n",
    "    latent_dim = 128\n",
    "\n",
    "    #Config Encoder\n",
    "    encoder_inputs = Input(shape=input_shape[1:])\n",
    "    encoder_gru = GRU(output_sequence_length)(encoder_inputs)\n",
    "    encoder_outputs = Dense(latent_dim, activation='relu')(encoder_gru)\n",
    "    \n",
    "    #COnfig Decoder\n",
    "    decoder_inputs = RepeatVector(output_sequence_length)(encoder_outputs)\n",
    "    decoder_gru = GRU(latent_dim, return_sequences=True)(decoder_inputs)\n",
    "    output_layer = TimeDistributed(Dense(french_vocab_size, activation='softmax'))\n",
    "    outputs = output_layer(decoder_gru)\n",
    "\n",
    "    #Create Model from parameters defined above\n",
    "    model = Model(inputs=encoder_inputs, outputs=outputs)\n",
    "    model.compile(loss=sparse_categorical_crossentropy,\n",
    "                  optimizer=Adam(learning_rate),\n",
    "                  metrics=['accuracy'])\n",
    "    \n",
    "    return model\n",
    "\n",
    "tmp_x = pad(preproc_english_sentences, preproc_french_sentences.shape[1])\n",
    "tmp_x = tmp_x.reshape((-1, preproc_french_sentences.shape[-2], 1))\n",
    "\n",
    "# Train the neural network\n",
    "encdec_rnn_model = encdec_model(\n",
    "    tmp_x.shape,\n",
    "    preproc_french_sentences.shape[1],\n",
    "    len(english_tokenizer.word_index) + 1,\n",
    "    len(french_tokenizer.word_index) + 1)\n",
    "encdec_rnn_model.summary()\n",
    "encdec_rnn_model.fit(tmp_x, preproc_french_sentences, batch_size=1024, epochs=10, validation_split=0.2)\n",
    "\n",
    "# Print prediction(s)\n",
    "print(logits_to_text(encdec_rnn_model.predict(tmp_x[:1])[0], french_tokenizer))"
   ]
  },
  {
   "cell_type": "markdown",
   "metadata": {},
   "source": [
    "## Final Model\n",
    "create a model that incorporates embedding and a bidirectional rnn into one model"
   ]
  },
  {
   "cell_type": "code",
   "execution_count": 45,
   "metadata": {},
   "outputs": [
    {
     "name": "stdout",
     "output_type": "stream",
     "text": [
      "Final Model Loaded\n"
     ]
    }
   ],
   "source": [
    "def model_final(input_shape, output_sequence_length, english_vocab_size, french_vocab_size):\n",
    "    \"\"\"\n",
    "    Build and train a model that incorporates embedding, encoder-decoder, and bidirectional RNN on x and y\n",
    "    :param input_shape: Tuple of input shape\n",
    "    :param output_sequence_length: Length of output sequence\n",
    "    :param english_vocab_size: Number of unique English words in the dataset\n",
    "    :param french_vocab_size: Number of unique French words in the dataset\n",
    "    :return: Keras model built, but not trained\n",
    "    \"\"\"\n",
    "    \n",
    "    #Config Hyperparameters\n",
    "    learning_rate = 0.01\n",
    "    latent_dim = 128\n",
    "    \n",
    "    #Config Model\n",
    "    inputs = Input(shape=input_shape[1:])\n",
    "    embedding_layer = Embedding(input_dim=english_vocab_size,\n",
    "                                output_dim=output_sequence_length,\n",
    "                                mask_zero=False)(inputs)\n",
    "    bd_layer = Bidirectional(GRU(output_sequence_length))(embedding_layer)\n",
    "    encoding_layer = Dense(latent_dim, activation='relu')(bd_layer)\n",
    "    decoding_layer = RepeatVector(output_sequence_length)(encoding_layer)\n",
    "    output_layer = Bidirectional(GRU(latent_dim, return_sequences=True))(decoding_layer)\n",
    "    outputs = TimeDistributed(Dense(french_vocab_size, activation='softmax'))(output_layer)\n",
    "    \n",
    "    #Create Model from parameters defined above\n",
    "    model = Model(inputs=inputs, outputs=outputs)\n",
    "    model.compile(loss=sparse_categorical_crossentropy,\n",
    "                  optimizer=Adam(learning_rate),\n",
    "                  metrics=['accuracy'])\n",
    "    \n",
    "    return model\n",
    "\n",
    "\n",
    "print('Final Model Loaded')"
   ]
  },
  {
   "cell_type": "markdown",
   "metadata": {},
   "source": [
    "## Predictions"
   ]
  },
  {
   "cell_type": "code",
   "execution_count": 44,
   "metadata": {},
   "outputs": [
    {
     "name": "stdout",
     "output_type": "stream",
     "text": [
      "Model: \"functional_25\"\n",
      "_________________________________________________________________\n",
      "Layer (type)                 Output Shape              Param #   \n",
      "=================================================================\n",
      "input_13 (InputLayer)        [(None, 15)]              0         \n",
      "_________________________________________________________________\n",
      "embedding_5 (Embedding)      (None, 15, 21)            4200      \n",
      "_________________________________________________________________\n",
      "bidirectional_8 (Bidirection (None, 42)                5544      \n",
      "_________________________________________________________________\n",
      "dense_18 (Dense)             (None, 128)               5504      \n",
      "_________________________________________________________________\n",
      "repeat_vector_5 (RepeatVecto (None, 21, 128)           0         \n",
      "_________________________________________________________________\n",
      "bidirectional_9 (Bidirection (None, 21, 256)           198144    \n",
      "_________________________________________________________________\n",
      "time_distributed_13 (TimeDis (None, 21, 345)           88665     \n",
      "=================================================================\n",
      "Total params: 302,057\n",
      "Trainable params: 302,057\n",
      "Non-trainable params: 0\n",
      "_________________________________________________________________\n",
      "Epoch 1/10\n",
      "108/108 [==============================] - 57s 525ms/step - loss: 2.2231 - accuracy: 0.5003 - val_loss: 1.4478 - val_accuracy: 0.6176\n",
      "Epoch 2/10\n",
      "108/108 [==============================] - 58s 539ms/step - loss: 1.1912 - accuracy: 0.6694 - val_loss: 0.9808 - val_accuracy: 0.7176\n",
      "Epoch 3/10\n",
      "108/108 [==============================] - 59s 550ms/step - loss: 0.8729 - accuracy: 0.7404 - val_loss: 0.7525 - val_accuracy: 0.7708\n",
      "Epoch 4/10\n",
      "108/108 [==============================] - 58s 538ms/step - loss: 0.7006 - accuracy: 0.7829 - val_loss: 0.6309 - val_accuracy: 0.8036\n",
      "Epoch 5/10\n",
      "108/108 [==============================] - 60s 555ms/step - loss: 0.5614 - accuracy: 0.8229 - val_loss: 0.6117 - val_accuracy: 0.8099\n",
      "Epoch 6/10\n",
      "108/108 [==============================] - 59s 547ms/step - loss: 0.4701 - accuracy: 0.8502 - val_loss: 0.4753 - val_accuracy: 0.8448\n",
      "Epoch 7/10\n",
      "108/108 [==============================] - 60s 553ms/step - loss: 0.3751 - accuracy: 0.8813 - val_loss: 0.3363 - val_accuracy: 0.8969\n",
      "Epoch 8/10\n",
      "108/108 [==============================] - 60s 560ms/step - loss: 0.2943 - accuracy: 0.9108 - val_loss: 0.2727 - val_accuracy: 0.9185\n",
      "Epoch 9/10\n",
      "108/108 [==============================] - 56s 519ms/step - loss: 0.2455 - accuracy: 0.9258 - val_loss: 0.2342 - val_accuracy: 0.9307\n",
      "Epoch 10/10\n",
      "108/108 [==============================] - 57s 530ms/step - loss: 0.2174 - accuracy: 0.9341 - val_loss: 0.2335 - val_accuracy: 0.9289\n",
      "Sample 1:\n",
      "il a vu un vieux camion jaune <PAD> <PAD> <PAD> <PAD> <PAD> <PAD> <PAD> <PAD> <PAD> <PAD> <PAD> <PAD> <PAD> <PAD>\n",
      "Il a vu un vieux camion jaune\n",
      "Sample 2:\n",
      "new jersey est généralement froid pendant l' automne et il est neigeux en avril <PAD> avril <PAD> <PAD> <PAD> <PAD> <PAD>\n",
      "<PAD> <PAD> <PAD> <PAD> <PAD> <PAD> <PAD> <PAD> <PAD> <PAD> <PAD> <PAD> <PAD> <PAD> <PAD> <PAD> <PAD> <PAD> <PAD> <PAD> <PAD>\n"
     ]
    }
   ],
   "source": [
    "import numpy as np\n",
    "from keras.preprocessing.sequence import pad_sequences\n",
    "\n",
    "\n",
    "def final_predictions(x, y, x_tk, y_tk):\n",
    "\n",
    "    model = model_final(x.shape,\n",
    "                        y.shape[1],\n",
    "                       len(x_tk.word_index) + 1,\n",
    "                       len(y_tk.word_index) + 1)\n",
    "    model.summary()\n",
    "    model.fit(x, y, batch_size=1024, epochs=10, validation_split=0.2)\n",
    "    \n",
    "    ## DON'T EDIT ANYTHING BELOW THIS LINE\n",
    "    y_id_to_word = {value: key for key, value in y_tk.word_index.items()}\n",
    "    y_id_to_word[0] = '<PAD>'\n",
    "\n",
    "    sentence = 'he saw a old yellow truck'\n",
    "    sentence = [x_tk.word_index[word] for word in sentence.split()]\n",
    "    sentence = pad_sequences([sentence], maxlen=x.shape[-1], padding='post')\n",
    "    sentences = np.array([sentence[0], x[0]])\n",
    "    predictions = model.predict(sentences, len(sentences))\n",
    "\n",
    "    print('Sample 1:')\n",
    "    print(' '.join([y_id_to_word[np.argmax(x)] for x in predictions[0]]))\n",
    "    print('Il a vu un vieux camion jaune')\n",
    "    print('Sample 2:')\n",
    "    print(' '.join([y_id_to_word[np.argmax(x)] for x in predictions[1]]))\n",
    "    print(' '.join([y_id_to_word[np.argmax(x)] for x in y[0]]))\n",
    "\n",
    "\n",
    "final_predictions(preproc_english_sentences, preproc_french_sentences, english_tokenizer, french_tokenizer)"
   ]
  },
  {
   "cell_type": "code",
   "execution_count": null,
   "metadata": {},
   "outputs": [],
   "source": []
  }
 ],
 "metadata": {
  "kernelspec": {
   "display_name": "Python 3",
   "language": "python",
   "name": "python3"
  },
  "language_info": {
   "codemirror_mode": {
    "name": "ipython",
    "version": 3
   },
   "file_extension": ".py",
   "mimetype": "text/x-python",
   "name": "python",
   "nbconvert_exporter": "python",
   "pygments_lexer": "ipython3",
   "version": "3.6.9"
  }
 },
 "nbformat": 4,
 "nbformat_minor": 4
}
